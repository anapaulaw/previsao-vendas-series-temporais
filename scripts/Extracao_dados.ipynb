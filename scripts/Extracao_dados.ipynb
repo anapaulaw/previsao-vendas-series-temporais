{
  "nbformat": 4,
  "nbformat_minor": 0,
  "metadata": {
    "colab": {
      "provenance": []
    },
    "kernelspec": {
      "name": "python3",
      "display_name": "Python 3"
    },
    "language_info": {
      "name": "python"
    }
  },
  "cells": [
    {
      "cell_type": "markdown",
      "source": [
        "## ETAPA DE EXTRAÇÃO DOS DADOS\n",
        "\n",
        "---\n",
        "\n",
        "\n",
        "\n",
        "\n",
        "\n",
        "*  carregar o arquivo original de dados CSV.\n",
        "\n",
        "*  renomear colunas.\n",
        "\n",
        "*  separa as tabelas de clientes e produtos.\n",
        "\n",
        "*  criar um banco banco_relacional.db.\n",
        "\n",
        "*  enviar todas as tabelas para o banco relacional.\n",
        "* fazer algumas consultas através de scripts SQL.\n",
        "*  selecionar as variavéis que queremos trabalhar na etapa posterior de engenharia  e análise de dados.\n",
        "\n",
        "*  executar a junção em  SQL\n",
        "\n",
        "*  salva o resultado como nova tabela e CSV."
      ],
      "metadata": {
        "id": "4cE-KSIzKEdQ"
      }
    },
    {
      "cell_type": "code",
      "source": [
        "import pandas as pd\n",
        "import sqlite3\n",
        "import os"
      ],
      "metadata": {
        "id": "SIQzFY7LG_q9"
      },
      "execution_count": null,
      "outputs": []
    },
    {
      "cell_type": "code",
      "source": [
        "df = pd.read_csv(\"data/sales_data_sample.csv\" , encoding='latin1' , sep = ',')"
      ],
      "metadata": {
        "id": "v4OHhLnZHIHS"
      },
      "execution_count": null,
      "outputs": []
    },
    {
      "cell_type": "code",
      "source": [
        "list(df)"
      ],
      "metadata": {
        "colab": {
          "base_uri": "https://localhost:8080/"
        },
        "id": "BiMxKO2qHdB_",
        "outputId": "c7e42b74-d8f6-41a1-d016-2247d9eb97ca"
      },
      "execution_count": null,
      "outputs": [
        {
          "output_type": "execute_result",
          "data": {
            "text/plain": [
              "['ORDERNUMBER',\n",
              " 'QUANTITYORDERED',\n",
              " 'PRICEEACH',\n",
              " 'ORDERLINENUMBER',\n",
              " 'SALES',\n",
              " 'ORDERDATE',\n",
              " 'STATUS',\n",
              " 'QTR_ID',\n",
              " 'MONTH_ID',\n",
              " 'YEAR_ID',\n",
              " 'PRODUCTLINE',\n",
              " 'MSRP',\n",
              " 'PRODUCTCODE',\n",
              " 'CUSTOMERNAME',\n",
              " 'PHONE',\n",
              " 'ADDRESSLINE1',\n",
              " 'ADDRESSLINE2',\n",
              " 'CITY',\n",
              " 'STATE',\n",
              " 'POSTALCODE',\n",
              " 'COUNTRY',\n",
              " 'TERRITORY',\n",
              " 'CONTACTLASTNAME',\n",
              " 'CONTACTFIRSTNAME',\n",
              " 'DEALSIZE']"
            ]
          },
          "metadata": {},
          "execution_count": 16
        }
      ]
    },
    {
      "cell_type": "code",
      "source": [
        "df.rename(columns={\n",
        "    'ORDERNUMBER': 'numero_pedido',\n",
        "    'QUANTITYORDERED': 'quantidade_pedida',\n",
        "    'PRICEEACH': 'preco_unitario',\n",
        "    'ORDERLINENUMBER': 'numero_linha_pedido',\n",
        "    'SALES': 'valor_total',\n",
        "    'ORDERDATE': 'data_pedido',\n",
        "    'STATUS': 'status_pedido',\n",
        "    'QTR_ID': 'trimestre',\n",
        "    'MONTH_ID': 'mes',\n",
        "    'YEAR_ID': 'ano',\n",
        "    'PRODUCTLINE': 'linha_produto',\n",
        "    'MSRP': 'preco_sugerido',\n",
        "    'PRODUCTCODE': 'codigo_produto',\n",
        "    'CUSTOMERNAME': 'nome_cliente',\n",
        "    'PHONE': 'telefone',\n",
        "    'ADDRESSLINE1': 'endereco_1',\n",
        "    'ADDRESSLINE2': 'endereco_2',\n",
        "    'CITY': 'cidade',\n",
        "    'STATE': 'estado',\n",
        "    'POSTALCODE': 'cep',\n",
        "    'COUNTRY': 'pais',\n",
        "    'TERRITORY': 'territorio',\n",
        "    'CONTACTLASTNAME': 'sobrenome_contato',\n",
        "    'CONTACTFIRSTNAME': 'nome_contato',\n",
        "    'DEALSIZE': 'porte_negocio'\n",
        "}, inplace=True)\n"
      ],
      "metadata": {
        "id": "8KySqbiWH0PT"
      },
      "execution_count": null,
      "outputs": []
    },
    {
      "cell_type": "code",
      "source": [
        "df.info()"
      ],
      "metadata": {
        "colab": {
          "base_uri": "https://localhost:8080/"
        },
        "id": "nCqkZ_68KALe",
        "outputId": "d73e2e93-a52a-493f-849a-51373f584e46"
      },
      "execution_count": null,
      "outputs": [
        {
          "output_type": "stream",
          "name": "stdout",
          "text": [
            "<class 'pandas.core.frame.DataFrame'>\n",
            "RangeIndex: 2823 entries, 0 to 2822\n",
            "Data columns (total 25 columns):\n",
            " #   Column               Non-Null Count  Dtype  \n",
            "---  ------               --------------  -----  \n",
            " 0   numero_pedido        2823 non-null   int64  \n",
            " 1   quantidade_pedida    2823 non-null   int64  \n",
            " 2   preco_unitario       2823 non-null   float64\n",
            " 3   numero_linha_pedido  2823 non-null   int64  \n",
            " 4   valor_total          2823 non-null   float64\n",
            " 5   data_pedido          2823 non-null   object \n",
            " 6   status_pedido        2823 non-null   object \n",
            " 7   trimestre            2823 non-null   int64  \n",
            " 8   mes                  2823 non-null   int64  \n",
            " 9   ano                  2823 non-null   int64  \n",
            " 10  linha_produto        2823 non-null   object \n",
            " 11  preco_sugerido       2823 non-null   int64  \n",
            " 12  codigo_produto       2823 non-null   object \n",
            " 13  nome_cliente         2823 non-null   object \n",
            " 14  telefone             2823 non-null   object \n",
            " 15  endereco_1           2823 non-null   object \n",
            " 16  endereco_2           302 non-null    object \n",
            " 17  cidade               2823 non-null   object \n",
            " 18  estado               1337 non-null   object \n",
            " 19  cep                  2747 non-null   object \n",
            " 20  pais                 2823 non-null   object \n",
            " 21  territorio           1749 non-null   object \n",
            " 22  sobrenome_contato    2823 non-null   object \n",
            " 23  nome_contato         2823 non-null   object \n",
            " 24  porte_negocio        2823 non-null   object \n",
            "dtypes: float64(2), int64(7), object(16)\n",
            "memory usage: 551.5+ KB\n"
          ]
        }
      ]
    },
    {
      "cell_type": "code",
      "source": [
        "df.head(5)"
      ],
      "metadata": {
        "colab": {
          "base_uri": "https://localhost:8080/",
          "height": 377
        },
        "id": "-7WMW6qEH2XD",
        "outputId": "fa265f5c-f5f6-488b-ae2b-f2e0dfb585d6"
      },
      "execution_count": null,
      "outputs": [
        {
          "output_type": "execute_result",
          "data": {
            "text/plain": [
              "   numero_pedido  quantidade_pedida  preco_unitario  numero_linha_pedido  \\\n",
              "0          10107                 30           95.70                    2   \n",
              "1          10121                 34           81.35                    5   \n",
              "2          10134                 41           94.74                    2   \n",
              "3          10145                 45           83.26                    6   \n",
              "4          10159                 49          100.00                   14   \n",
              "\n",
              "   valor_total      data_pedido status_pedido  trimestre  mes   ano  ...  \\\n",
              "0      2871.00   2/24/2003 0:00       Shipped          1    2  2003  ...   \n",
              "1      2765.90    5/7/2003 0:00       Shipped          2    5  2003  ...   \n",
              "2      3884.34    7/1/2003 0:00       Shipped          3    7  2003  ...   \n",
              "3      3746.70   8/25/2003 0:00       Shipped          3    8  2003  ...   \n",
              "4      5205.27  10/10/2003 0:00       Shipped          4   10  2003  ...   \n",
              "\n",
              "                      endereco_1  endereco_2         cidade estado    cep  \\\n",
              "0        897 Long Airport Avenue         NaN            NYC     NY  10022   \n",
              "1             59 rue de l'Abbaye         NaN          Reims    NaN  51100   \n",
              "2  27 rue du Colonel Pierre Avia         NaN          Paris    NaN  75508   \n",
              "3             78934 Hillside Dr.         NaN       Pasadena     CA  90003   \n",
              "4                7734 Strong St.         NaN  San Francisco     CA    NaN   \n",
              "\n",
              "     pais territorio sobrenome_contato nome_contato porte_negocio  \n",
              "0     USA        NaN                Yu         Kwai         Small  \n",
              "1  France       EMEA           Henriot         Paul         Small  \n",
              "2  France       EMEA          Da Cunha       Daniel        Medium  \n",
              "3     USA        NaN             Young        Julie        Medium  \n",
              "4     USA        NaN             Brown        Julie        Medium  \n",
              "\n",
              "[5 rows x 25 columns]"
            ],
            "text/html": [
              "\n",
              "  <div id=\"df-a4412bca-2d27-4eeb-93d2-9f14ed5cd12e\" class=\"colab-df-container\">\n",
              "    <div>\n",
              "<style scoped>\n",
              "    .dataframe tbody tr th:only-of-type {\n",
              "        vertical-align: middle;\n",
              "    }\n",
              "\n",
              "    .dataframe tbody tr th {\n",
              "        vertical-align: top;\n",
              "    }\n",
              "\n",
              "    .dataframe thead th {\n",
              "        text-align: right;\n",
              "    }\n",
              "</style>\n",
              "<table border=\"1\" class=\"dataframe\">\n",
              "  <thead>\n",
              "    <tr style=\"text-align: right;\">\n",
              "      <th></th>\n",
              "      <th>numero_pedido</th>\n",
              "      <th>quantidade_pedida</th>\n",
              "      <th>preco_unitario</th>\n",
              "      <th>numero_linha_pedido</th>\n",
              "      <th>valor_total</th>\n",
              "      <th>data_pedido</th>\n",
              "      <th>status_pedido</th>\n",
              "      <th>trimestre</th>\n",
              "      <th>mes</th>\n",
              "      <th>ano</th>\n",
              "      <th>...</th>\n",
              "      <th>endereco_1</th>\n",
              "      <th>endereco_2</th>\n",
              "      <th>cidade</th>\n",
              "      <th>estado</th>\n",
              "      <th>cep</th>\n",
              "      <th>pais</th>\n",
              "      <th>territorio</th>\n",
              "      <th>sobrenome_contato</th>\n",
              "      <th>nome_contato</th>\n",
              "      <th>porte_negocio</th>\n",
              "    </tr>\n",
              "  </thead>\n",
              "  <tbody>\n",
              "    <tr>\n",
              "      <th>0</th>\n",
              "      <td>10107</td>\n",
              "      <td>30</td>\n",
              "      <td>95.70</td>\n",
              "      <td>2</td>\n",
              "      <td>2871.00</td>\n",
              "      <td>2/24/2003 0:00</td>\n",
              "      <td>Shipped</td>\n",
              "      <td>1</td>\n",
              "      <td>2</td>\n",
              "      <td>2003</td>\n",
              "      <td>...</td>\n",
              "      <td>897 Long Airport Avenue</td>\n",
              "      <td>NaN</td>\n",
              "      <td>NYC</td>\n",
              "      <td>NY</td>\n",
              "      <td>10022</td>\n",
              "      <td>USA</td>\n",
              "      <td>NaN</td>\n",
              "      <td>Yu</td>\n",
              "      <td>Kwai</td>\n",
              "      <td>Small</td>\n",
              "    </tr>\n",
              "    <tr>\n",
              "      <th>1</th>\n",
              "      <td>10121</td>\n",
              "      <td>34</td>\n",
              "      <td>81.35</td>\n",
              "      <td>5</td>\n",
              "      <td>2765.90</td>\n",
              "      <td>5/7/2003 0:00</td>\n",
              "      <td>Shipped</td>\n",
              "      <td>2</td>\n",
              "      <td>5</td>\n",
              "      <td>2003</td>\n",
              "      <td>...</td>\n",
              "      <td>59 rue de l'Abbaye</td>\n",
              "      <td>NaN</td>\n",
              "      <td>Reims</td>\n",
              "      <td>NaN</td>\n",
              "      <td>51100</td>\n",
              "      <td>France</td>\n",
              "      <td>EMEA</td>\n",
              "      <td>Henriot</td>\n",
              "      <td>Paul</td>\n",
              "      <td>Small</td>\n",
              "    </tr>\n",
              "    <tr>\n",
              "      <th>2</th>\n",
              "      <td>10134</td>\n",
              "      <td>41</td>\n",
              "      <td>94.74</td>\n",
              "      <td>2</td>\n",
              "      <td>3884.34</td>\n",
              "      <td>7/1/2003 0:00</td>\n",
              "      <td>Shipped</td>\n",
              "      <td>3</td>\n",
              "      <td>7</td>\n",
              "      <td>2003</td>\n",
              "      <td>...</td>\n",
              "      <td>27 rue du Colonel Pierre Avia</td>\n",
              "      <td>NaN</td>\n",
              "      <td>Paris</td>\n",
              "      <td>NaN</td>\n",
              "      <td>75508</td>\n",
              "      <td>France</td>\n",
              "      <td>EMEA</td>\n",
              "      <td>Da Cunha</td>\n",
              "      <td>Daniel</td>\n",
              "      <td>Medium</td>\n",
              "    </tr>\n",
              "    <tr>\n",
              "      <th>3</th>\n",
              "      <td>10145</td>\n",
              "      <td>45</td>\n",
              "      <td>83.26</td>\n",
              "      <td>6</td>\n",
              "      <td>3746.70</td>\n",
              "      <td>8/25/2003 0:00</td>\n",
              "      <td>Shipped</td>\n",
              "      <td>3</td>\n",
              "      <td>8</td>\n",
              "      <td>2003</td>\n",
              "      <td>...</td>\n",
              "      <td>78934 Hillside Dr.</td>\n",
              "      <td>NaN</td>\n",
              "      <td>Pasadena</td>\n",
              "      <td>CA</td>\n",
              "      <td>90003</td>\n",
              "      <td>USA</td>\n",
              "      <td>NaN</td>\n",
              "      <td>Young</td>\n",
              "      <td>Julie</td>\n",
              "      <td>Medium</td>\n",
              "    </tr>\n",
              "    <tr>\n",
              "      <th>4</th>\n",
              "      <td>10159</td>\n",
              "      <td>49</td>\n",
              "      <td>100.00</td>\n",
              "      <td>14</td>\n",
              "      <td>5205.27</td>\n",
              "      <td>10/10/2003 0:00</td>\n",
              "      <td>Shipped</td>\n",
              "      <td>4</td>\n",
              "      <td>10</td>\n",
              "      <td>2003</td>\n",
              "      <td>...</td>\n",
              "      <td>7734 Strong St.</td>\n",
              "      <td>NaN</td>\n",
              "      <td>San Francisco</td>\n",
              "      <td>CA</td>\n",
              "      <td>NaN</td>\n",
              "      <td>USA</td>\n",
              "      <td>NaN</td>\n",
              "      <td>Brown</td>\n",
              "      <td>Julie</td>\n",
              "      <td>Medium</td>\n",
              "    </tr>\n",
              "  </tbody>\n",
              "</table>\n",
              "<p>5 rows × 25 columns</p>\n",
              "</div>\n",
              "    <div class=\"colab-df-buttons\">\n",
              "\n",
              "  <div class=\"colab-df-container\">\n",
              "    <button class=\"colab-df-convert\" onclick=\"convertToInteractive('df-a4412bca-2d27-4eeb-93d2-9f14ed5cd12e')\"\n",
              "            title=\"Convert this dataframe to an interactive table.\"\n",
              "            style=\"display:none;\">\n",
              "\n",
              "  <svg xmlns=\"http://www.w3.org/2000/svg\" height=\"24px\" viewBox=\"0 -960 960 960\">\n",
              "    <path d=\"M120-120v-720h720v720H120Zm60-500h600v-160H180v160Zm220 220h160v-160H400v160Zm0 220h160v-160H400v160ZM180-400h160v-160H180v160Zm440 0h160v-160H620v160ZM180-180h160v-160H180v160Zm440 0h160v-160H620v160Z\"/>\n",
              "  </svg>\n",
              "    </button>\n",
              "\n",
              "  <style>\n",
              "    .colab-df-container {\n",
              "      display:flex;\n",
              "      gap: 12px;\n",
              "    }\n",
              "\n",
              "    .colab-df-convert {\n",
              "      background-color: #E8F0FE;\n",
              "      border: none;\n",
              "      border-radius: 50%;\n",
              "      cursor: pointer;\n",
              "      display: none;\n",
              "      fill: #1967D2;\n",
              "      height: 32px;\n",
              "      padding: 0 0 0 0;\n",
              "      width: 32px;\n",
              "    }\n",
              "\n",
              "    .colab-df-convert:hover {\n",
              "      background-color: #E2EBFA;\n",
              "      box-shadow: 0px 1px 2px rgba(60, 64, 67, 0.3), 0px 1px 3px 1px rgba(60, 64, 67, 0.15);\n",
              "      fill: #174EA6;\n",
              "    }\n",
              "\n",
              "    .colab-df-buttons div {\n",
              "      margin-bottom: 4px;\n",
              "    }\n",
              "\n",
              "    [theme=dark] .colab-df-convert {\n",
              "      background-color: #3B4455;\n",
              "      fill: #D2E3FC;\n",
              "    }\n",
              "\n",
              "    [theme=dark] .colab-df-convert:hover {\n",
              "      background-color: #434B5C;\n",
              "      box-shadow: 0px 1px 3px 1px rgba(0, 0, 0, 0.15);\n",
              "      filter: drop-shadow(0px 1px 2px rgba(0, 0, 0, 0.3));\n",
              "      fill: #FFFFFF;\n",
              "    }\n",
              "  </style>\n",
              "\n",
              "    <script>\n",
              "      const buttonEl =\n",
              "        document.querySelector('#df-a4412bca-2d27-4eeb-93d2-9f14ed5cd12e button.colab-df-convert');\n",
              "      buttonEl.style.display =\n",
              "        google.colab.kernel.accessAllowed ? 'block' : 'none';\n",
              "\n",
              "      async function convertToInteractive(key) {\n",
              "        const element = document.querySelector('#df-a4412bca-2d27-4eeb-93d2-9f14ed5cd12e');\n",
              "        const dataTable =\n",
              "          await google.colab.kernel.invokeFunction('convertToInteractive',\n",
              "                                                    [key], {});\n",
              "        if (!dataTable) return;\n",
              "\n",
              "        const docLinkHtml = 'Like what you see? Visit the ' +\n",
              "          '<a target=\"_blank\" href=https://colab.research.google.com/notebooks/data_table.ipynb>data table notebook</a>'\n",
              "          + ' to learn more about interactive tables.';\n",
              "        element.innerHTML = '';\n",
              "        dataTable['output_type'] = 'display_data';\n",
              "        await google.colab.output.renderOutput(dataTable, element);\n",
              "        const docLink = document.createElement('div');\n",
              "        docLink.innerHTML = docLinkHtml;\n",
              "        element.appendChild(docLink);\n",
              "      }\n",
              "    </script>\n",
              "  </div>\n",
              "\n",
              "\n",
              "    <div id=\"df-d8f586dd-206f-4be1-8cbd-742a9a9c3b2e\">\n",
              "      <button class=\"colab-df-quickchart\" onclick=\"quickchart('df-d8f586dd-206f-4be1-8cbd-742a9a9c3b2e')\"\n",
              "                title=\"Suggest charts\"\n",
              "                style=\"display:none;\">\n",
              "\n",
              "<svg xmlns=\"http://www.w3.org/2000/svg\" height=\"24px\"viewBox=\"0 0 24 24\"\n",
              "     width=\"24px\">\n",
              "    <g>\n",
              "        <path d=\"M19 3H5c-1.1 0-2 .9-2 2v14c0 1.1.9 2 2 2h14c1.1 0 2-.9 2-2V5c0-1.1-.9-2-2-2zM9 17H7v-7h2v7zm4 0h-2V7h2v10zm4 0h-2v-4h2v4z\"/>\n",
              "    </g>\n",
              "</svg>\n",
              "      </button>\n",
              "\n",
              "<style>\n",
              "  .colab-df-quickchart {\n",
              "      --bg-color: #E8F0FE;\n",
              "      --fill-color: #1967D2;\n",
              "      --hover-bg-color: #E2EBFA;\n",
              "      --hover-fill-color: #174EA6;\n",
              "      --disabled-fill-color: #AAA;\n",
              "      --disabled-bg-color: #DDD;\n",
              "  }\n",
              "\n",
              "  [theme=dark] .colab-df-quickchart {\n",
              "      --bg-color: #3B4455;\n",
              "      --fill-color: #D2E3FC;\n",
              "      --hover-bg-color: #434B5C;\n",
              "      --hover-fill-color: #FFFFFF;\n",
              "      --disabled-bg-color: #3B4455;\n",
              "      --disabled-fill-color: #666;\n",
              "  }\n",
              "\n",
              "  .colab-df-quickchart {\n",
              "    background-color: var(--bg-color);\n",
              "    border: none;\n",
              "    border-radius: 50%;\n",
              "    cursor: pointer;\n",
              "    display: none;\n",
              "    fill: var(--fill-color);\n",
              "    height: 32px;\n",
              "    padding: 0;\n",
              "    width: 32px;\n",
              "  }\n",
              "\n",
              "  .colab-df-quickchart:hover {\n",
              "    background-color: var(--hover-bg-color);\n",
              "    box-shadow: 0 1px 2px rgba(60, 64, 67, 0.3), 0 1px 3px 1px rgba(60, 64, 67, 0.15);\n",
              "    fill: var(--button-hover-fill-color);\n",
              "  }\n",
              "\n",
              "  .colab-df-quickchart-complete:disabled,\n",
              "  .colab-df-quickchart-complete:disabled:hover {\n",
              "    background-color: var(--disabled-bg-color);\n",
              "    fill: var(--disabled-fill-color);\n",
              "    box-shadow: none;\n",
              "  }\n",
              "\n",
              "  .colab-df-spinner {\n",
              "    border: 2px solid var(--fill-color);\n",
              "    border-color: transparent;\n",
              "    border-bottom-color: var(--fill-color);\n",
              "    animation:\n",
              "      spin 1s steps(1) infinite;\n",
              "  }\n",
              "\n",
              "  @keyframes spin {\n",
              "    0% {\n",
              "      border-color: transparent;\n",
              "      border-bottom-color: var(--fill-color);\n",
              "      border-left-color: var(--fill-color);\n",
              "    }\n",
              "    20% {\n",
              "      border-color: transparent;\n",
              "      border-left-color: var(--fill-color);\n",
              "      border-top-color: var(--fill-color);\n",
              "    }\n",
              "    30% {\n",
              "      border-color: transparent;\n",
              "      border-left-color: var(--fill-color);\n",
              "      border-top-color: var(--fill-color);\n",
              "      border-right-color: var(--fill-color);\n",
              "    }\n",
              "    40% {\n",
              "      border-color: transparent;\n",
              "      border-right-color: var(--fill-color);\n",
              "      border-top-color: var(--fill-color);\n",
              "    }\n",
              "    60% {\n",
              "      border-color: transparent;\n",
              "      border-right-color: var(--fill-color);\n",
              "    }\n",
              "    80% {\n",
              "      border-color: transparent;\n",
              "      border-right-color: var(--fill-color);\n",
              "      border-bottom-color: var(--fill-color);\n",
              "    }\n",
              "    90% {\n",
              "      border-color: transparent;\n",
              "      border-bottom-color: var(--fill-color);\n",
              "    }\n",
              "  }\n",
              "</style>\n",
              "\n",
              "      <script>\n",
              "        async function quickchart(key) {\n",
              "          const quickchartButtonEl =\n",
              "            document.querySelector('#' + key + ' button');\n",
              "          quickchartButtonEl.disabled = true;  // To prevent multiple clicks.\n",
              "          quickchartButtonEl.classList.add('colab-df-spinner');\n",
              "          try {\n",
              "            const charts = await google.colab.kernel.invokeFunction(\n",
              "                'suggestCharts', [key], {});\n",
              "          } catch (error) {\n",
              "            console.error('Error during call to suggestCharts:', error);\n",
              "          }\n",
              "          quickchartButtonEl.classList.remove('colab-df-spinner');\n",
              "          quickchartButtonEl.classList.add('colab-df-quickchart-complete');\n",
              "        }\n",
              "        (() => {\n",
              "          let quickchartButtonEl =\n",
              "            document.querySelector('#df-d8f586dd-206f-4be1-8cbd-742a9a9c3b2e button');\n",
              "          quickchartButtonEl.style.display =\n",
              "            google.colab.kernel.accessAllowed ? 'block' : 'none';\n",
              "        })();\n",
              "      </script>\n",
              "    </div>\n",
              "\n",
              "    </div>\n",
              "  </div>\n"
            ],
            "application/vnd.google.colaboratory.intrinsic+json": {
              "type": "dataframe",
              "variable_name": "df"
            }
          },
          "metadata": {},
          "execution_count": 19
        }
      ]
    },
    {
      "cell_type": "markdown",
      "source": [
        "### SEPARAR TABELAS\n",
        "\n",
        "---\n",
        "\n"
      ],
      "metadata": {
        "id": "oGpYxyroIn9C"
      }
    },
    {
      "cell_type": "code",
      "source": [
        "# Tabela de clientes\n",
        "clientes = df[['nome_cliente', 'telefone', 'endereco_1', 'endereco_2', 'cidade', 'estado', 'cep', 'pais', 'territorio', 'nome_contato', 'sobrenome_contato']].drop_duplicates()\n",
        "\n",
        "# -----------------------\n",
        "# Tabela de produtos\n",
        "produtos = df[['codigo_produto', 'linha_produto', 'preco_sugerido']].drop_duplicates()\n",
        "\n",
        "# -----------------------\n",
        "# Tabela de pedidos\n",
        "pedidos = df[['numero_pedido', 'data_pedido', 'status_pedido', 'trimestre', 'mes', 'ano', 'nome_cliente', 'porte_negocio']].drop_duplicates()\n",
        "\n",
        "# -----------------------\n",
        "# Tabela de detalhes do pedido\n",
        "detalhes = df[['numero_pedido', 'codigo_produto', 'quantidade_pedida', 'preco_unitario', 'numero_linha_pedido', 'valor_total']]\n"
      ],
      "metadata": {
        "id": "swsozTDjH6fL"
      },
      "execution_count": null,
      "outputs": []
    },
    {
      "cell_type": "code",
      "source": [
        "#CRIAR BANCO REALCIONAL\n",
        "\n",
        "con = sqlite3.connect(\"banco_realacional.db\")\n",
        "clientes.to_sql(\"clientes\", con, index=False, if_exists=\"replace\")\n",
        "produtos.to_sql(\"produtos\", con, index=False, if_exists=\"replace\")\n",
        "pedidos.to_sql(\"pedidos\", con, index=False, if_exists=\"replace\")\n",
        "detalhes.to_sql(\"detalhes_pedido\", con, index=False, if_exists=\"replace\")\n",
        "#con.close()\n",
        "\n",
        "print(\" Banco relacional criado !\")"
      ],
      "metadata": {
        "colab": {
          "base_uri": "https://localhost:8080/"
        },
        "id": "7GHukVWWH6it",
        "outputId": "7ba9d815-69b9-4d2a-883d-24475bad8d32"
      },
      "execution_count": null,
      "outputs": [
        {
          "output_type": "stream",
          "name": "stdout",
          "text": [
            " Banco relacional criado !\n"
          ]
        }
      ]
    },
    {
      "cell_type": "code",
      "source": [
        "cursor = con.cursor()\n",
        "cursor.execute(\"SELECT name FROM sqlite_master WHERE type='table';\")\n",
        "tabelas = cursor.fetchall()\n",
        "print(\"Tabelas disponíveis no banco:\", tabelas)"
      ],
      "metadata": {
        "colab": {
          "base_uri": "https://localhost:8080/"
        },
        "id": "Xleca6mZNY9k",
        "outputId": "6ab61375-f8d3-4055-96ae-b9512e36954c"
      },
      "execution_count": null,
      "outputs": [
        {
          "output_type": "stream",
          "name": "stdout",
          "text": [
            "Tabelas disponíveis no banco: [('clientes',), ('produtos',), ('pedidos',), ('detalhes_pedido',)]\n"
          ]
        }
      ]
    },
    {
      "cell_type": "markdown",
      "source": [
        "### CONSULTAS AO BANCO RELACIONAL"
      ],
      "metadata": {
        "id": "zBl0NNdwLbe5"
      }
    },
    {
      "cell_type": "code",
      "source": [
        "con = sqlite3.connect(\"banco_realacional.db\")"
      ],
      "metadata": {
        "id": "TPjddZmJDwr0"
      },
      "execution_count": null,
      "outputs": []
    },
    {
      "cell_type": "code",
      "source": [
        "for tabela in ['clientes', 'produtos', 'pedidos', 'detalhes_pedido']:\n",
        "    query = f\"SELECT * FROM {tabela} LIMIT 5;\"\n",
        "    df = pd.read_sql_query(query, con)\n",
        "    print(f\"\\nTabela: {tabela}\")\n",
        "    print(df.head())"
      ],
      "metadata": {
        "colab": {
          "base_uri": "https://localhost:8080/"
        },
        "id": "qb-KrfRrOcUo",
        "outputId": "2c11508c-22fb-4c67-d6ea-a516f9700057"
      },
      "execution_count": null,
      "outputs": [
        {
          "output_type": "stream",
          "name": "stdout",
          "text": [
            "\n",
            "Tabela: clientes\n",
            "               nome_cliente          telefone                     endereco_1  \\\n",
            "0         Land of Toys Inc.        2125557818        897 Long Airport Avenue   \n",
            "1        Reims Collectables        26.47.1555             59 rue de l'Abbaye   \n",
            "2           Lyon Souveniers  +33 1 46 62 7555  27 rue du Colonel Pierre Avia   \n",
            "3         Toys4GrownUps.com        6265557265             78934 Hillside Dr.   \n",
            "4  Corporate Gift Ideas Co.        6505551386                7734 Strong St.   \n",
            "\n",
            "  endereco_2         cidade estado    cep    pais territorio nome_contato  \\\n",
            "0       None            NYC     NY  10022     USA       None         Kwai   \n",
            "1       None          Reims   None  51100  France       EMEA         Paul   \n",
            "2       None          Paris   None  75508  France       EMEA       Daniel   \n",
            "3       None       Pasadena     CA  90003     USA       None        Julie   \n",
            "4       None  San Francisco     CA   None     USA       None        Julie   \n",
            "\n",
            "  sobrenome_contato  \n",
            "0                Yu  \n",
            "1           Henriot  \n",
            "2          Da Cunha  \n",
            "3             Young  \n",
            "4             Brown  \n",
            "\n",
            "Tabela: produtos\n",
            "  codigo_produto linha_produto  preco_sugerido\n",
            "0       S10_1678   Motorcycles              95\n",
            "1       S10_1949  Classic Cars             214\n",
            "2       S10_2016   Motorcycles             118\n",
            "3       S10_4698   Motorcycles             193\n",
            "4       S10_4757  Classic Cars             136\n",
            "\n",
            "Tabela: pedidos\n",
            "   numero_pedido      data_pedido status_pedido  trimestre  mes   ano  \\\n",
            "0          10107   2/24/2003 0:00       Shipped          1    2  2003   \n",
            "1          10121    5/7/2003 0:00       Shipped          2    5  2003   \n",
            "2          10134    7/1/2003 0:00       Shipped          3    7  2003   \n",
            "3          10145   8/25/2003 0:00       Shipped          3    8  2003   \n",
            "4          10159  10/10/2003 0:00       Shipped          4   10  2003   \n",
            "\n",
            "               nome_cliente porte_negocio  \n",
            "0         Land of Toys Inc.         Small  \n",
            "1        Reims Collectables         Small  \n",
            "2           Lyon Souveniers        Medium  \n",
            "3         Toys4GrownUps.com        Medium  \n",
            "4  Corporate Gift Ideas Co.        Medium  \n",
            "\n",
            "Tabela: detalhes_pedido\n",
            "   numero_pedido codigo_produto  quantidade_pedida  preco_unitario  \\\n",
            "0          10107       S10_1678                 30           95.70   \n",
            "1          10121       S10_1678                 34           81.35   \n",
            "2          10134       S10_1678                 41           94.74   \n",
            "3          10145       S10_1678                 45           83.26   \n",
            "4          10159       S10_1678                 49          100.00   \n",
            "\n",
            "   numero_linha_pedido  valor_total  \n",
            "0                    2      2871.00  \n",
            "1                    5      2765.90  \n",
            "2                    2      3884.34  \n",
            "3                    6      3746.70  \n",
            "4                   14      5205.27  \n"
          ]
        }
      ]
    },
    {
      "cell_type": "code",
      "source": [
        "#top clientes\n",
        "query = '''\n",
        "SELECT\n",
        "    c.nome_cliente,\n",
        "    ROUND(SUM(d.valor_total), 2) AS total_comprado\n",
        "FROM detalhes_pedido d\n",
        "JOIN pedidos p ON d.numero_pedido = p.numero_pedido\n",
        "JOIN clientes c ON p.nome_cliente = c.nome_cliente\n",
        "GROUP BY c.nome_cliente\n",
        "ORDER BY total_comprado DESC\n",
        "LIMIT 10;\n",
        "'''\n",
        "\n",
        "top_clientes = pd.read_sql_query(query, con)\n",
        "print(top_clientes)"
      ],
      "metadata": {
        "colab": {
          "base_uri": "https://localhost:8080/"
        },
        "id": "tp2a9SENOchP",
        "outputId": "874cf084-6adc-4d6b-ddad-ca216ee0e476"
      },
      "execution_count": null,
      "outputs": [
        {
          "output_type": "stream",
          "name": "stdout",
          "text": [
            "                   nome_cliente  total_comprado\n",
            "0         Euro Shopping Channel      2076929.63\n",
            "1  Mini Gifts Distributors Ltd.      1756323.79\n",
            "2            Muscle Machine Inc       505642.55\n",
            "3    Australian Collectors, Co.       492287.87\n",
            "4     The Sharp Gifts Warehouse       463902.71\n",
            "5       Dragon Souveniers, Ltd.       460704.61\n",
            "6      Corporate Gift Ideas Co.       431939.83\n",
            "7        Saveley & Henriot, Co.       428622.75\n",
            "8             La Rochelle Gifts       419867.20\n",
            "9         Salzburg Collectables       404073.47\n"
          ]
        }
      ]
    },
    {
      "cell_type": "code",
      "source": [
        "#Produtos mais vendidos (em unidades)\n",
        "\n",
        "query = '''\n",
        "SELECT\n",
        "    pr.codigo_produto,\n",
        "    pr.linha_produto,\n",
        "    SUM(d.quantidade_pedida) AS total_unidades\n",
        "FROM detalhes_pedido d\n",
        "JOIN produtos pr ON d.codigo_produto = pr.codigo_produto\n",
        "GROUP BY pr.codigo_produto, pr.linha_produto\n",
        "ORDER BY total_unidades DESC\n",
        "LIMIT 10;\n",
        "'''\n",
        "\n",
        "produtos_vendidos = pd.read_sql_query(query, con)\n",
        "print(produtos_vendidos)\n"
      ],
      "metadata": {
        "colab": {
          "base_uri": "https://localhost:8080/"
        },
        "id": "ew45IogDMrC7",
        "outputId": "e8d0fe5d-041d-4ba9-b367-6013cb7e1439"
      },
      "execution_count": null,
      "outputs": [
        {
          "output_type": "stream",
          "name": "stdout",
          "text": [
            "  codigo_produto     linha_produto  total_unidades\n",
            "0       S18_3232      Classic Cars            1774\n",
            "1       S24_3856      Classic Cars            1052\n",
            "2       S18_4600  Trucks and Buses            1031\n",
            "3      S700_4002            Planes            1029\n",
            "4       S12_4473  Trucks and Buses            1024\n",
            "5       S24_3949            Planes            1008\n",
            "6       S18_1097  Trucks and Buses             999\n",
            "7       S50_1341      Vintage Cars             999\n",
            "8       S18_2432  Trucks and Buses             998\n",
            "9       S18_1342      Vintage Cars             997\n"
          ]
        }
      ]
    },
    {
      "cell_type": "code",
      "source": [
        "#Faturamento por ano e trimestre\n",
        "\n",
        "query = '''\n",
        "SELECT\n",
        "    ano,\n",
        "    trimestre,\n",
        "    ROUND(SUM(valor_total), 2) AS faturamento\n",
        "FROM pedidos p\n",
        "JOIN detalhes_pedido d ON p.numero_pedido = d.numero_pedido\n",
        "GROUP BY ano, trimestre\n",
        "ORDER BY ano, trimestre;\n",
        "'''\n",
        "\n",
        "faturamento_trimestral = pd.read_sql_query(query, con)\n",
        "print(faturamento_trimestral)\n"
      ],
      "metadata": {
        "colab": {
          "base_uri": "https://localhost:8080/"
        },
        "id": "Rp6r7i8tMrHH",
        "outputId": "3cd82ef9-0e17-44f5-a931-5115d828afda"
      },
      "execution_count": null,
      "outputs": [
        {
          "output_type": "stream",
          "name": "stdout",
          "text": [
            "    ano  trimestre  faturamento\n",
            "0  2003          1    976459.31\n",
            "1  2003          2   1398718.01\n",
            "2  2003          3   1728431.68\n",
            "3  2003          4   4637005.63\n",
            "4  2004          1   2031108.02\n",
            "5  2004          2   1814521.78\n",
            "6  2004          3   2730526.66\n",
            "7  2004          4   4939060.94\n",
            "8  2005          1   2593117.93\n",
            "9  2005          2   1816134.19\n"
          ]
        }
      ]
    },
    {
      "cell_type": "code",
      "source": [
        "#Ticket médio por cliente\n",
        "\n",
        "query = '''\n",
        "SELECT\n",
        "    c.nome_cliente,\n",
        "    COUNT(DISTINCT p.numero_pedido) AS qtd_pedidos,\n",
        "    ROUND(SUM(d.valor_total), 2) AS total_gasto,\n",
        "    ROUND(SUM(d.valor_total) / COUNT(DISTINCT p.numero_pedido), 2) AS ticket_medio\n",
        "FROM clientes c\n",
        "JOIN pedidos p ON c.nome_cliente = p.nome_cliente\n",
        "JOIN detalhes_pedido d ON p.numero_pedido = d.numero_pedido\n",
        "GROUP BY c.nome_cliente\n",
        "ORDER BY ticket_medio DESC\n",
        "LIMIT 10;\n",
        "'''\n",
        "\n",
        "ticket_medio = pd.read_sql_query(query, con)\n",
        "print(ticket_medio)\n"
      ],
      "metadata": {
        "colab": {
          "base_uri": "https://localhost:8080/"
        },
        "id": "PYlFGZW3My0n",
        "outputId": "c7708804-9308-4adf-8bb3-7cbdb5de64f1"
      },
      "execution_count": null,
      "outputs": [
        {
          "output_type": "stream",
          "name": "stdout",
          "text": [
            "                   nome_cliente  qtd_pedidos  total_gasto  ticket_medio\n",
            "0        Saveley & Henriot, Co.            3    428622.75     142874.25\n",
            "1            Amica Models & Co.            2    282351.78     141175.89\n",
            "2        Toms Spezialitten, Ltd            2    269556.56     134778.28\n",
            "3          Heintze Collectables            2    261465.04     130732.52\n",
            "4          Marta's Replicas Co.            2    260412.42     130206.21\n",
            "5           L'ordine Souveniers            3    386294.05     128764.68\n",
            "6  Online Diecast Creations Co.            3    382922.65     127640.88\n",
            "7            Muscle Machine Inc            4    505642.55     126410.64\n",
            "8                AV Stores, Co.            3    364577.90     121525.97\n",
            "9    Corrida Auto Replicas, Ltd            3    361845.84     120615.28\n"
          ]
        }
      ]
    },
    {
      "cell_type": "code",
      "source": [
        "#Análise de elasticidade: variação de preço x quantidade\n",
        "\n",
        "query = '''\n",
        "SELECT\n",
        "    pr.codigo_produto,\n",
        "    AVG(d.preco_unitario) AS preco_medio,\n",
        "    SUM(d.quantidade_pedida) AS qtd_total,\n",
        "    ROUND(SUM(d.valor_total), 2) AS total_vendas\n",
        "FROM detalhes_pedido d\n",
        "JOIN produtos pr ON d.codigo_produto = pr.codigo_produto\n",
        "GROUP BY pr.codigo_produto\n",
        "HAVING COUNT(*) > 5\n",
        "ORDER BY preco_medio DESC;\n",
        "'''\n",
        "\n",
        "elasticidade = pd.read_sql_query(query, con)\n",
        "print(elasticidade)\n"
      ],
      "metadata": {
        "colab": {
          "base_uri": "https://localhost:8080/"
        },
        "id": "NUYgXF2-M2W6",
        "outputId": "a90821c9-a734-4cca-b2d5-6733aee48e87"
      },
      "execution_count": null,
      "outputs": [
        {
          "output_type": "stream",
          "name": "stdout",
          "text": [
            "    codigo_produto  preco_medio  qtd_total  total_vendas\n",
            "0         S24_2300   100.000000        996     125273.43\n",
            "1         S18_4027   100.000000        922     133779.35\n",
            "2         S10_1949   100.000000        961     191073.03\n",
            "3         S18_3482    99.859600        860     120467.29\n",
            "4         S18_2238    99.555556        966     154623.95\n",
            "..             ...          ...        ...           ...\n",
            "104       S32_2206    47.084000        836      41353.43\n",
            "105       S24_2972    45.498519        912      46515.92\n",
            "106       S24_3969    45.046818        745      33181.66\n",
            "107       S24_2840    44.010357        983      47235.48\n",
            "108       S24_1937    43.992000        844      47981.09\n",
            "\n",
            "[109 rows x 4 columns]\n"
          ]
        }
      ]
    },
    {
      "cell_type": "markdown",
      "source": [
        "### EXTRAÇÃO DOS DADOS IMPORTANTES PARA O TRABALHO"
      ],
      "metadata": {
        "id": "m1-VOBVtHLJQ"
      }
    },
    {
      "cell_type": "code",
      "source": [
        "con = sqlite3.connect(\"banco_realacional.db\") #CONECTANDO COM O BANCO"
      ],
      "metadata": {
        "id": "IOAQDokKHR1-"
      },
      "execution_count": null,
      "outputs": []
    },
    {
      "cell_type": "code",
      "source": [
        "cursor = con.cursor()\n",
        "cursor.execute(\"SELECT name FROM sqlite_master WHERE type='table';\") #VERIFICANDO AS TABELAS DISPONIVEIS\n",
        "print(\"Tabelas disponíveis:\", cursor.fetchall())"
      ],
      "metadata": {
        "colab": {
          "base_uri": "https://localhost:8080/"
        },
        "id": "XxQCfgHlKWaX",
        "outputId": "80ada4a2-6990-4e01-c557-19031085788f"
      },
      "execution_count": null,
      "outputs": [
        {
          "output_type": "stream",
          "name": "stdout",
          "text": [
            "Tabelas disponíveis: [('clientes',), ('produtos',), ('pedidos',), ('detalhes_pedido',)]\n"
          ]
        }
      ]
    },
    {
      "cell_type": "code",
      "source": [
        "#SELECIONANDO AS VARIÁVEIS DE INTERESSE PARA O TRABALHO\n",
        "query = '''\n",
        "SELECT\n",
        "    d.numero_pedido,\n",
        "    p.data_pedido,\n",
        "    p.status_pedido,\n",
        "    p.trimestre,\n",
        "    p.mes,\n",
        "    p.ano,\n",
        "    p.porte_negocio,\n",
        "\n",
        "    c.pais,\n",
        "    c.territorio,\n",
        "    c.estado,\n",
        "    c.cidade,\n",
        "\n",
        "    pr.linha_produto,\n",
        "    pr.preco_sugerido,\n",
        "\n",
        "    d.codigo_produto,\n",
        "    d.quantidade_pedida,\n",
        "    d.preco_unitario,\n",
        "    d.valor_total\n",
        "\n",
        "FROM detalhes_pedido d\n",
        "JOIN pedidos p ON d.numero_pedido = p.numero_pedido\n",
        "JOIN clientes c ON p.nome_cliente = c.nome_cliente\n",
        "JOIN produtos pr ON d.codigo_produto = pr.codigo_produto\n",
        "'''"
      ],
      "metadata": {
        "id": "QwJqmTRfH42X"
      },
      "execution_count": null,
      "outputs": []
    },
    {
      "cell_type": "code",
      "source": [
        "df_unificada = pd.read_sql_query(query, con)"
      ],
      "metadata": {
        "id": "KrNVf3vRITW4"
      },
      "execution_count": null,
      "outputs": []
    },
    {
      "cell_type": "code",
      "source": [
        "df_unificada.to_csv(\"vendas_unificadas.csv\", index=False, encoding=\"utf-8-sig\") #SALVANDO O BANCO DE DADOS UNIFICADO"
      ],
      "metadata": {
        "id": "FO__OT8qHR6v"
      },
      "execution_count": null,
      "outputs": []
    }
  ]
}